{
  "cells": [
    {
      "cell_type": "markdown",
      "metadata": {
        "id": "d24c4b89"
      },
      "source": [
        "## CIS 580, Machine Perception, Spring 2023\n",
        "### Homework 5\n",
        "#### Due: Thursday April 27th 2023, 11:59pm ET"
      ],
      "id": "d24c4b89"
    },
    {
      "cell_type": "markdown",
      "metadata": {
        "id": "44c0f2b2"
      },
      "source": [
        "Instructions: Create a folder in your Google Drive and place inside this .ipynb file. Open the jupyter notebook with Google Colab. Refrain from using a GPU during implementing and testing the whole thing. You should switch to a GPU runtime only when performing the final training (of the 2D image or the NeRF) to avoid GPU usage runouts."
      ],
      "id": "44c0f2b2"
    },
    {
      "cell_type": "markdown",
      "metadata": {
        "id": "815c2f08"
      },
      "source": [
        "### Part 1: Fitting a 2D Image"
      ],
      "id": "815c2f08"
    },
    {
      "cell_type": "code",
      "execution_count": null,
      "metadata": {
        "id": "a56ff09c"
      },
      "outputs": [],
      "source": [
        "import numpy as np\n",
        "import os\n",
        "import torch\n",
        "import torch.nn as nn\n",
        "import torch.optim as optim\n",
        "import torch.nn.functional as F\n",
        "import matplotlib.pyplot as plt\n",
        "import imageio.v2 as imageio\n",
        "import time\n",
        "import gdown\n",
        "\n",
        "device = torch.device(\"cuda\" if torch.cuda.is_available() else \"cpu\")\n",
        "print(device)"
      ],
      "id": "a56ff09c"
    },
    {
      "cell_type": "markdown",
      "metadata": {
        "id": "beb91eff"
      },
      "source": [
        "We first download the image from the web. We normalize the image so the pixels are in between the range of [0,1]."
      ],
      "id": "beb91eff"
    },
    {
      "cell_type": "code",
      "execution_count": null,
      "metadata": {
        "id": "e8a2cbb7"
      },
      "outputs": [],
      "source": [
        "url = \"https://drive.google.com/file/d/1-Cugk9WiFX2CPjWG5taX3868Gdd0PEVT/view?usp=share_link\"\n",
        "gdown.download(url=url, output='starry_night.jpg', quiet=False, fuzzy=True)\n",
        "\n",
        "# Load painting image\n",
        "painting = imageio.imread(\"starry_night.jpg\")\n",
        "painting = torch.from_numpy(np.array(painting, dtype=np.float32)/255.).to(device)\n",
        "height_painting, width_painting = painting.shape[:2]"
      ],
      "id": "e8a2cbb7"
    },
    {
      "cell_type": "code",
      "source": [
        "def positional_encoding(x, num_frequencies=6, incl_input=True):\n",
        "    \"\"\"\n",
        "    Apply positional encoding to the input.\n",
        "\n",
        "    Args:\n",
        "    x (torch.Tensor): Input tensor to be positionally encoded.\n",
        "      The dimension of x is [N, D], where N is the number of input coordinates,\n",
        "      and D is the dimension of the input coordinate.\n",
        "    num_frequencies (optional, int): The number of frequencies used in\n",
        "     the positional encoding (default: 6).\n",
        "    incl_input (optional, bool): If True, concatenate the input with the\n",
        "        computed positional encoding (default: True).\n",
        "\n",
        "    Returns:\n",
        "    (torch.Tensor): Positional encoding of the input tensor.\n",
        "    \"\"\"\n",
        "\n",
        "    results = []\n",
        "    D = x.shape[-1]\n",
        "    if incl_input:\n",
        "        results.append(x)\n",
        "    #############################  TODO 1(a) BEGIN  ############################\n",
        "    # encode input tensor and append the encoded tensor to the list of results.\n",
        "    for i in range(num_frequencies):\n",
        "        # for j in range(D):\n",
        "        sin = torch.sin((2 ** i) * torch.tensor(np.pi) * x)\n",
        "        cos = torch.cos((2 ** i) * torch.tensor(np.pi) * x)\n",
        "\n",
        "        results.append(sin)\n",
        "        results.append(cos)\n",
        "\n",
        "    #############################  TODO 1(a) END  ##############################\n",
        "    return torch.cat(results, dim=-1)\n",
        "\n",
        "\n",
        "class model_2d(nn.Module):\n",
        "\n",
        "    \"\"\"\n",
        "    Define a 2D model comprising of three fully connected layers,\n",
        "    two relu activations and one sigmoid activation.\n",
        "    \"\"\"\n",
        "\n",
        "    def __init__(self, filter_size=128, num_frequencies=6):\n",
        "        super().__init__()\n",
        "        #############################  TODO 1(b) BEGIN  ############################\n",
        "        input_dimension = 2 + 2 * num_frequencies * 2\n",
        "        # Output_dimension = 3\n",
        "        self.layer1 = nn.Linear(input_dimension, filter_size)\n",
        "        self.layer2 = nn.Linear(filter_size, filter_size)\n",
        "        self.layer3 = nn.Linear(filter_size, 3)\n",
        "        #\n",
        "        # self.Relu = nn.ReLU()\n",
        "        # self.sigmoid = nn.Sigmoid()\n",
        "\n",
        "        #############################  TODO 1(b) END  ##############################\n",
        "\n",
        "    def forward(self, x):\n",
        "        #############################  TODO 1(b) BEGIN  ############################\n",
        "\n",
        "        print(\"Input shape: \", x.shape)\n",
        "        x = x.view(x.shape[0], -1)\n",
        "        x = F.relu(self.layer1(x))\n",
        "        x = F.relu(self.layer2(x))\n",
        "        x = F.sigmoid(self.layer3(x))\n",
        "\n",
        "        #############################  TODO 1(b) END  ##############################\n",
        "        return x\n",
        "\n",
        "\n",
        "def train_2d_model(test_img, num_frequencies, device, model=model_2d, positional_encoding=positional_encoding,\n",
        "                   show=True):\n",
        "    # Optimizer parameters\n",
        "    lr = 5e-4\n",
        "    iterations = 10000\n",
        "    height, width = test_img.shape[:2]\n",
        "    # print(test_img.shape)\n",
        "\n",
        "    # Number of iters after which stats are displayed\n",
        "    display = 2000\n",
        "\n",
        "    # Define the model and initialize its weights.\n",
        "    model2d = model(num_frequencies=num_frequencies)\n",
        "    model2d.to(device)\n",
        "\n",
        "    def weights_init(m):\n",
        "        if isinstance(m, nn.Linear):\n",
        "            torch.nn.init.xavier_uniform_(m.weight)\n",
        "\n",
        "    model2d.apply(weights_init)\n",
        "\n",
        "    #############################  TODO 1(c) BEGIN  ############################\n",
        "    # Define the optimizer\n",
        "    optimizer = optim.Adam(model2d.parameters(), lr=lr)\n",
        "\n",
        "    #############################  TODO 1(c) END  ############################\n",
        "\n",
        "    # Seed RNG, for repeatability\n",
        "    seed = 5670\n",
        "    torch.manual_seed(seed)\n",
        "    np.random.seed(seed)\n",
        "\n",
        "    # Lists to log metrics etc.\n",
        "    psnrs = []\n",
        "    iternums = []\n",
        "\n",
        "    t = time.time()\n",
        "    t0 = time.time()\n",
        "\n",
        "    #############################  TODO 1(c) BEGIN  ############################\n",
        "    # Create the 2D normalized coordinates, and apply positional encoding to them\n",
        "\n",
        "    X = torch.zeros((width_painting*height_painting, 2))\n",
        "    w = torch.linspace(0, 1, width_painting)\n",
        "    h = torch.linspace(0, 1, height_painting)\n",
        "\n",
        "    for i in range(height_painting):\n",
        "        for j in range(width_painting):\n",
        "           x_coor = i*width_painting + j\n",
        "           X[x_coor] = torch.tensor([w[j], h[i]])\n",
        "\n",
        "    # vector_2d = torch.tensor(X, dtype=torch.float)\n",
        "\n",
        "    # print(vector_2d.shape)\n",
        "\n",
        "    PE_coordinates = positional_encoding(X, num_frequencies=6, incl_input=True)\n",
        "    PE_coordinates = PE_coordinates.to(device)\n",
        "    print(PE_coordinates.shape)\n",
        "\n",
        "    # pred = model2d.forward(PE_coordinates).view(height, width, 3)\n",
        "    # print(pred.shape)\n",
        "\n",
        "    #############################  TODO 1(c) END  ############################\n",
        "\n",
        "    for i in range(iterations + 1):\n",
        "        optimizer.zero_grad()\n",
        "        #############################  TODO 1(c) BEGIN  ############################\n",
        "        # Run one iteration\n",
        "        pred = model2d.forward(PE_coordinates).view(height_painting, width_painting, 3)\n",
        "\n",
        "        print(pred.shape)\n",
        "        print(\"Testimage\",test_img.shape)\n",
        "        # print(pred.shape)\n",
        "\n",
        "        # Compute mean-squared error between the predicted and target images. Backprop!\n",
        "\n",
        "        loss = F.mse_loss(pred,test_img)\n",
        "\n",
        "        loss.backward()\n",
        "        optimizer.step()\n",
        "\n",
        "        #############################  TODO 1(c) END  ############################\n",
        "\n",
        "        # Display images/plots/stats\n",
        "        if i % display == 0 and show:\n",
        "            #############################  TODO 1(c) BEGIN  ############################\n",
        "            # Calculate psnr\n",
        "            psnr = 10 * torch.log10(1/loss)\n",
        "            #############################  TODO 1(c) END  ############################\n",
        "\n",
        "            print(\"Iteration %d \" % i, \"Loss: %.4f \" % loss.item(), \"PSNR: %.2f\" % psnr.item(), \\\n",
        "                  \"Time: %.2f secs per iter\" % ((time.time() - t) / display), \"%.2f secs in total\" % (time.time() - t0))\n",
        "            t = time.time()\n",
        "\n",
        "            psnrs.append(psnr.item())\n",
        "            iternums.append(i)\n",
        "\n",
        "            plt.figure(figsize=(13, 4))\n",
        "            plt.subplot(131)\n",
        "            plt.imshow(pred.detach().cpu().numpy())\n",
        "            plt.title(f\"Iteration {i}\")\n",
        "            plt.subplot(132)\n",
        "            plt.imshow(test_img.cpu().numpy())\n",
        "            plt.title(\"Target image\")\n",
        "            plt.subplot(133)\n",
        "            plt.plot(iternums, psnrs)\n",
        "            plt.title(\"PSNR\")\n",
        "            plt.show()\n",
        "\n",
        "    print('Done!')\n",
        "    return pred.detach().cpu()"
      ],
      "metadata": {
        "id": "hxhI7WCzcrAb"
      },
      "id": "hxhI7WCzcrAb",
      "execution_count": null,
      "outputs": []
    },
    {
      "cell_type": "code",
      "source": [
        "_ = train_2d_model(test_img=painting, num_frequencies=6, device=device)"
      ],
      "metadata": {
        "id": "Q4hLAbAbdDM6"
      },
      "id": "Q4hLAbAbdDM6",
      "execution_count": null,
      "outputs": []
    },
    {
      "cell_type": "markdown",
      "source": [
        "1.1 Complete the function positional_encoding()"
      ],
      "metadata": {
        "id": "_sGztcWDahNe"
      },
      "id": "_sGztcWDahNe"
    },
    {
      "cell_type": "markdown",
      "source": [
        "1.2 Complete the class model_2d() that will be used to fit the 2D image.\n"
      ],
      "metadata": {
        "id": "fgByaKdMal9_"
      },
      "id": "fgByaKdMal9_"
    },
    {
      "cell_type": "markdown",
      "metadata": {
        "id": "kU0s6ubohFCI"
      },
      "source": [
        "You need to complete 1.1 and 1.2 first before completing the train_2d_model function. Don't forget to transfer the completed functions from 1.1 and 1.2 to the part1.py file and upload it to the autograder.\n",
        "\n",
        "Fill the gaps in the train_2d_model() function to train the model to fit the 2D image."
      ],
      "id": "kU0s6ubohFCI"
    },
    {
      "cell_type": "markdown",
      "metadata": {
        "id": "67ab6e3e"
      },
      "source": [
        "Train the model to fit the given image without applying positional encoding to the input, and by applying positional encoding of two different frequencies to the input; L = 2 and L = 6."
      ],
      "id": "67ab6e3e"
    },
    {
      "cell_type": "markdown",
      "source": [
        "### Part 2: Fitting a 3D Image"
      ],
      "metadata": {
        "id": "ANL-bU4Q1Eyq"
      },
      "id": "ANL-bU4Q1Eyq"
    },
    {
      "cell_type": "code",
      "source": [
        "import os\n",
        "import gdown\n",
        "import numpy as np\n",
        "import torch\n",
        "import torch.nn as nn\n",
        "import matplotlib.pyplot as plt\n",
        "import torch.nn.functional as F\n",
        "import time\n",
        "\n",
        "device = torch.device(\"cuda:0\" if torch.cuda.is_available() else \"cpu\")\n",
        "print(device)"
      ],
      "metadata": {
        "id": "_b2W5vDk1Zwa"
      },
      "id": "_b2W5vDk1Zwa",
      "execution_count": null,
      "outputs": []
    },
    {
      "cell_type": "code",
      "source": [
        "url = \"https://drive.google.com/file/d/15W2EK8LooxTMfD0v5vo2BnBMse5ZzlVj/view?usp=share_link\"\n",
        "gdown.download(url=url, output='lego_data.npz', quiet=False, fuzzy=True)"
      ],
      "metadata": {
        "id": "w9QjMp3E1C7a"
      },
      "id": "w9QjMp3E1C7a",
      "execution_count": null,
      "outputs": []
    },
    {
      "cell_type": "markdown",
      "source": [
        "Here, we load the data that is comprised by the images, the R and T matrices of each camera position with respect to the world coordinates and the intrinsics parameters K of the camera."
      ],
      "metadata": {
        "id": "A5NK7D7MIvhl"
      },
      "id": "A5NK7D7MIvhl"
    },
    {
      "cell_type": "code",
      "source": [
        "# Load input images, poses, and intrinsics\n",
        "data = np.load(\"lego_data.npz\")\n",
        "\n",
        "# Images\n",
        "images = data[\"images\"]\n",
        "\n",
        "# Height and width of each image\n",
        "height, width = images.shape[1:3]\n",
        "\n",
        "# Camera extrinsics (poses)\n",
        "poses = data[\"poses\"]\n",
        "poses = torch.from_numpy(poses).to(device)\n",
        "\n",
        "# Camera intrinsics\n",
        "intrinsics = data[\"intrinsics\"]\n",
        "intrinsics = torch.from_numpy(intrinsics).to(device)\n",
        "\n",
        "# Hold one image out (for test).\n",
        "test_image, test_pose = images[101], poses[101]\n",
        "test_image = torch.from_numpy(test_image).to(device)\n",
        "\n",
        "# Map images to device\n",
        "images = torch.from_numpy(images[:100, ..., :3]).to(device)\n",
        "\n",
        "plt.imshow(test_image.detach().cpu().numpy())\n",
        "plt.show()"
      ],
      "metadata": {
        "id": "m0HJOx2_1YWN"
      },
      "id": "m0HJOx2_1YWN",
      "execution_count": null,
      "outputs": []
    },
    {
      "cell_type": "markdown",
      "source": [
        "2.1 Complete the following function that calculates the rays that pass through all the pixels of an HxW image"
      ],
      "metadata": {
        "id": "UIOQ2Q-J-d3r"
      },
      "id": "UIOQ2Q-J-d3r"
    },
    {
      "cell_type": "code",
      "source": [
        "\n",
        "def get_rays(height, width, intrinsics, Rcw, Tcw):  # Rwc, Twc\n",
        "\n",
        "    \"\"\"\n",
        "    Compute the origin and direction of rays passing through all pixels of an image (one ray per pixel).\n",
        "\n",
        "    Args:\n",
        "    height: the height of an image.\n",
        "    width: the width of an image.\n",
        "    intrinsics: camera intrinsics matrix of shape (3, 3).\n",
        "    Rcw: Rotation matrix of shape (3,3) from camera to world coordinates.\n",
        "    Tcw: Translation vector of shape (3,1) that transforms\n",
        "\n",
        "    Returns:\n",
        "    ray_origins (torch.Tensor): A tensor of shape (height, width, 3) denoting the centers of\n",
        "      each ray. Note that desipte that all ray share the same origin, here we ask you to return\n",
        "      the ray origin for each ray as (height, width, 3).\n",
        "    ray_directions (torch.Tensor): A tensor of shape (height, width, 3) denoting the\n",
        "      direction of each ray.\n",
        "    \"\"\"\n",
        "\n",
        "    device = intrinsics.device\n",
        "    ray_directions = torch.zeros((height, width, 3), device=device)  # placeholder\n",
        "    ray_origins = torch.zeros((height, width, 3), device=device)  # placeholder\n",
        "\n",
        "    #############################  TODO 2.1 BEGIN  ##########################\n",
        "    k_inverse = torch.inverse(intrinsics)\n",
        "    u, v = torch.meshgrid(torch.arange(width, device=device), torch.arange(height, device=device))\n",
        "    homogenous_pixels = torch.stack([v.float(), u.float(), torch.ones_like(u)], dim=-1)\n",
        "    print(k_inverse.shape, homogenous_pixels.shape)\n",
        "\n",
        "    ray_dir = torch.einsum('ij,zyj->zyi', k_inverse, homogenous_pixels)\n",
        "    print(Rcw.shape, ray_dir.shape)\n",
        "    ray_directions = torch.einsum('ij,zyj->zyi', Rcw, ray_dir)\n",
        "\n",
        "    ray_origins = ray_origins + Tcw\n",
        "\n",
        "    #############################  TODO 2.1 END  ############################\n",
        "    return ray_origins, ray_directions\n",
        "\n",
        "\n",
        "def stratified_sampling(ray_origins, ray_directions, near, far, samples):\n",
        "    \"\"\"\n",
        "    Sample 3D points on the given rays. The near and far variables indicate the bounds of sampling range.\n",
        "\n",
        "    Args:\n",
        "    ray_origins: Origin of each ray in the \"bundle\" as returned by the\n",
        "      get_rays() function. Shape: (height, width, 3).\n",
        "    ray_directions: Direction of each ray in the \"bundle\" as returned by the\n",
        "      get_rays() function. Shape: (height, width, 3).\n",
        "    near: The 'near' extent of the bounding volume.\n",
        "    far:  The 'far' extent of the bounding volume.\n",
        "    samples: Number of samples to be drawn along each ray.\n",
        "\n",
        "    Returns:\n",
        "    ray_points: Query 3D points along each ray. Shape: (height, width, samples, 3).\n",
        "    depth_points: Sampled depth values along each ray. Shape: (height, width, samples).\n",
        "    \"\"\"\n",
        "\n",
        "    #############################  TODO 2.2 BEGIN  ############################\n",
        "\n",
        "    height, width, _ = ray_origins.shape\n",
        "\n",
        "    # Create a tensor with shape (height, width, samples)\n",
        "    i = torch.arange(samples, dtype=torch.float32).view(1, 1, samples)\n",
        "\n",
        "    # Calculate depth points (ti) using the given formula\n",
        "    depth_points = near + (i - 1) * (far - near) / samples\n",
        "\n",
        "    # Tile depth_points to match the shape (height, width, samples)\n",
        "    depth_points = depth_points.repeat(height, width, 1)\n",
        "    depth_points = depth_points.to(ray_origins.device)\n",
        "\n",
        "\n",
        "    # Calculate the sampled 3D points along each ray (ray_points)\n",
        "    t_expanded = depth_points.unsqueeze(-1)\n",
        "    ray_points = ray_origins.unsqueeze(2) + ray_directions.unsqueeze(2) * t_expanded\n",
        "\n",
        "    #############################  TODO 2.2 END  ############################\n",
        "    return ray_points, depth_points\n",
        "\n",
        "\n",
        "class nerf_model(nn.Module):\n",
        "\n",
        "    def __init__(self, filter_size=256, num_x_frequencies=6, num_d_frequencies=3):\n",
        "        super().__init__()\n",
        "\n",
        "        self.input_layer = nn.Linear(3 * num_x_frequencies * 2 + 3, filter_size)\n",
        "        self.layers2 = nn.Linear(filter_size, filter_size)\n",
        "        self.layers3 = nn.Linear(filter_size, filter_size)\n",
        "        self.layers4 = nn.Linear(filter_size, filter_size)\n",
        "        self.layers5 = nn.Linear(filter_size, filter_size)\n",
        "        self.layers6 = nn.Linear(filter_size + 3 * num_x_frequencies * 2 + 3, filter_size)\n",
        "        self.layers7 = nn.Linear(filter_size, filter_size)\n",
        "        self.layers8 = nn.Linear(filter_size, filter_size)\n",
        "        self.sigma_layer = nn.Linear(filter_size, 1)\n",
        "        self.feature_layer = nn.Linear(filter_size, filter_size)\n",
        "        self.direction_layer = nn.Linear(filter_size + 3 * num_d_frequencies * 2 + 3, filter_size // 2)\n",
        "        self.Output_layer = nn.Linear(filter_size // 2, 3)\n",
        "\n",
        "        #############################  TODO 2.3 END  ############################\n",
        "\n",
        "    def forward(self, x, d):\n",
        "        #############################  TODO 2.3 BEGIN  ############################\n",
        "\n",
        "        X = F.relu(self.input_layer(x))\n",
        "        x1 = F.relu(self.layers2(X))\n",
        "        x2 = F.relu(self.layers3(x1))\n",
        "        x3 = F.relu(self.layers4(x2))\n",
        "        x4 = F.relu(self.layers5(x3))\n",
        "\n",
        "        x5 = F.relu(self.layers6(torch.cat([x4, x], dim=-1)))\n",
        "        x6 = F.relu(self.layers7(x5))\n",
        "        x7 = F.relu(self.layers8(x6))\n",
        "\n",
        "        sigma = self.sigma_layer(x7)\n",
        "\n",
        "        x11 = F.relu(self.direction_layer(torch.cat([self.feature_layer(x7), d], dim=-1)))\n",
        "        rgb = torch.sigmoid(self.Output_layer(x11))\n",
        "\n",
        "        return rgb, sigma\n",
        "\n",
        "\n",
        "def get_batches(ray_points, ray_directions, num_x_frequencies, num_d_frequencies):\n",
        "    def positional_encoding(x, num_frequencies=6, incl_input=True):\n",
        "        results = []\n",
        "        if incl_input:\n",
        "            results.append(x)\n",
        "        for i in range(num_frequencies):\n",
        "            sin = torch.sin((2 ** i) * torch.pi * x)\n",
        "            cos = torch.cos((2 ** i) * torch.pi * x)\n",
        "\n",
        "            results.append(sin)\n",
        "            results.append(cos)\n",
        "        return torch.cat(results, dim=-1)\n",
        "\n",
        "    def get_chunks(inputs, chunksize=2 ** 15):\n",
        "        return [inputs[i:i + chunksize] for i in range(0, inputs.shape[0], chunksize)]\n",
        "\n",
        "    def normalize(v):\n",
        "        return v / torch.norm(v, dim=-1, keepdim=True)\n",
        "\n",
        "    # Normalize ray_directions\n",
        "    ray_directions_normalized = normalize(ray_directions)\n",
        "\n",
        "    # Repeat ray_directions_normalized for each sample along the ray\n",
        "    nsamples = ray_points.shape[2]\n",
        "    ray_directions_normalized = ray_directions_normalized.unsqueeze(2).repeat(1, 1, nsamples, 1)\n",
        "\n",
        "    # Flatten the ray_points and ray_directions_normalized tensors\n",
        "    ray_points_flattened = ray_points.view(-1, 3)\n",
        "    ray_directions_flattened = ray_directions_normalized.view(-1, 3)\n",
        "\n",
        "    # Apply positional encoding\n",
        "    ray_points_encoded = positional_encoding(ray_points_flattened, num_x_frequencies)\n",
        "    ray_directions_encoded = positional_encoding(ray_directions_flattened, num_d_frequencies)\n",
        "\n",
        "    # Call get_chunks() for the encoded ray_points and ray_directions\n",
        "    ray_points_batches = get_chunks(ray_points_encoded)\n",
        "    ray_directions_batches = get_chunks(ray_directions_encoded)\n",
        "\n",
        "    return ray_points_batches, ray_directions_batches\n",
        "\n",
        "\n",
        "def volumetric_rendering(rgb, sigma, depth_points):\n",
        "    \"\"\"\n",
        "    Differentiably renders a radiance field, given the origin of each ray in the\n",
        "    \"bundle\", and the sampled depth values along them.\n",
        "\n",
        "    Args:\n",
        "    rgb: RGB color at each query location (X, Y, Z). Shape: (height, width, samples, 3).\n",
        "    sigma: Volume density at each query location (X, Y, Z). Shape: (height, width, samples).\n",
        "    depth_points: Sampled depth values along each ray. Shape: (height, width, samples).\n",
        "\n",
        "    Returns:\n",
        "    rec_image: The reconstructed image after applying the volumetric rendering to every pixel.\n",
        "    Shape: (height, width, 3)\n",
        "    \"\"\"\n",
        "    device = rgb.device\n",
        "\n",
        "    # Calculate delta\n",
        "    Delta = torch.ones_like(depth_points).to(device) * 1e9\n",
        "    Delta[..., :-1] = torch.diff(depth_points, dim=-1)\n",
        "\n",
        "    # Calculate T\n",
        "    Ti = torch.cumprod(torch.exp(-(F.relu(sigma)) * (Delta.reshape_as(sigma))), dim=-1)\n",
        "    T_i = torch.roll(Ti, shifts=1, dims=-1)\n",
        "\n",
        "    # Calculate A and B\n",
        "    A = T_i * (1 - torch.exp(-(F.relu(sigma)) * (Delta.reshape_as(sigma))))\n",
        "\n",
        "    # Calculate the reconstructed image\n",
        "    rec_image = (A[..., None] * rgb).sum(dim=-2)\n",
        "\n",
        "    return rec_image\n",
        "\n",
        "def one_forward_pass(height, width, intrinsics, pose, near, far, samples, model, num_x_frequencies, num_d_frequencies):\n",
        "    #############################  TODO 2.5 BEGIN  ############################\n",
        "\n",
        "    # compute all the rays from the image\n",
        "\n",
        "    # sample the points from the rays\n",
        "\n",
        "    # divide data into batches to avoid memory errors\n",
        "\n",
        "    # forward pass the batches and concatenate the outputs at the end\n",
        "\n",
        "    # Apply volumetric rendering to obtain the reconstructed image\n",
        "\n",
        "    R_cw=pose[:3, :3].to(device)\n",
        "    T_cw=pose[:3, -1].to(device)\n",
        "\n",
        "    ro,rd=get_rays(height, width, intrinsics, R_cw, T_cw)\n",
        "    ro=ro.to(device)\n",
        "    rd=rd.to(device)\n",
        "    rp, dp=stratified_sampling(ro,rd,near, far, samples)\n",
        "    rpb, rdb=get_batches(rp,rd, num_x_frequencies, num_d_frequencies)\n",
        "\n",
        "    all_rgb=[]\n",
        "    all_sigma=[]\n",
        "\n",
        "    for i in range(len(rpb)):\n",
        "        rp1=rpb[i].float()\n",
        "        rd1=rdb[i].float()\n",
        "        rgbi, sigmai=model(rp1, rd1)\n",
        "        all_rgb.append(rgbi)\n",
        "        all_sigma.append(sigmai)\n",
        "\n",
        "    rgb=torch.concat(all_rgb).reshape((height, width, samples,3))\n",
        "    sigma=torch.concat(all_sigma).reshape((height, width, samples))\n",
        "\n",
        "\n",
        "    # Apply volumetric rendering to obtain the reconstructed image\n",
        "    rec_image=volumetric_rendering(rgb, sigma, dp)\n",
        "\n",
        "    #############################  TODO 2.5 END  ############################\n",
        "\n",
        "    return rec_image\n"
      ],
      "metadata": {
        "id": "Ou_jzN3hgp3K"
      },
      "id": "Ou_jzN3hgp3K",
      "execution_count": null,
      "outputs": []
    },
    {
      "cell_type": "markdown",
      "source": [
        "Complete the next function to visualize how is the dataset created. You will be able to see from which point of view each image has been captured for the 3D object. What we want to achieve here, is to being able to interpolate between these given views and synthesize new realistic views of the 3D object."
      ],
      "metadata": {
        "id": "x6HpVdfGIadm"
      },
      "id": "x6HpVdfGIadm"
    },
    {
      "cell_type": "markdown",
      "source": [
        "2.2 Complete the following function to implement the sampling of points along a given ray."
      ],
      "metadata": {
        "id": "AeHgkq9bJAdV"
      },
      "id": "AeHgkq9bJAdV"
    },
    {
      "cell_type": "markdown",
      "source": [
        "2.3 Define the network architecture of NeRF along with a function that divided data into chunks to avoid memory leaks during training."
      ],
      "metadata": {
        "id": "TXdocO-0Nt9I"
      },
      "id": "TXdocO-0Nt9I"
    },
    {
      "cell_type": "markdown",
      "source": [
        "2.4 Compute the compositing weights of samples on camera ray and then complete the volumetric rendering procedure to reconstruct a whole RGB image from the sampled points and the outputs of the neural network."
      ],
      "metadata": {
        "id": "TsJ-JomiNc64"
      },
      "id": "TsJ-JomiNc64"
    },
    {
      "cell_type": "markdown",
      "source": [
        "2.5 Combine everything together. Given the pose position of a camera, compute the camera rays and sample the 3D points along these rays. Divide those points into batches and feed them to the neural network. Concatenate them and use them for the volumetric rendering to reconstructed the final image."
      ],
      "metadata": {
        "id": "GzqJyWOmOFK2"
      },
      "id": "GzqJyWOmOFK2"
    },
    {
      "cell_type": "markdown",
      "source": [
        "If you manage to pass the autograder for all the previous functions, then it is time to train a NeRF! We provide the hyperparameters for you, we initialize the NeRF model and its weights, and we define a couple lists that will be needed to store results."
      ],
      "metadata": {
        "id": "hJcDeS8eO-eu"
      },
      "id": "hJcDeS8eO-eu"
    },
    {
      "cell_type": "code",
      "source": [
        "num_x_frequencies = 10\n",
        "num_d_frequencies = 4\n",
        "learning_rate  = 5e-4\n",
        "iterations = 3000\n",
        "samples = 64\n",
        "display = 25\n",
        "near = 0.667\n",
        "far = 2\n",
        "\n",
        "model = nerf_model(num_x_frequencies=num_x_frequencies,num_d_frequencies=num_d_frequencies).to(device)\n",
        "\n",
        "def weights_init(m):\n",
        "    if isinstance(m, torch.nn.Linear):\n",
        "        torch.nn.init.xavier_uniform_(m.weight)\n",
        "model.apply(weights_init)\n",
        "\n",
        "optimizer = torch.optim.Adam(model.parameters(), lr=learning_rate)\n",
        "\n",
        "psnrs = []\n",
        "iternums = []\n",
        "\n",
        "t = time.time()\n",
        "t0 = time.time()"
      ],
      "metadata": {
        "id": "tRImUa2VOGw5"
      },
      "id": "tRImUa2VOGw5",
      "execution_count": null,
      "outputs": []
    },
    {
      "cell_type": "code",
      "source": [
        "for i in range(iterations+1):\n",
        "\n",
        "    #############################  TODO 2.6 BEGIN  ############################\n",
        "    #choose randomly a picture for the forward pass\n",
        "    # torch.cuda.empty_cache()\n",
        "    idx=torch.randint(low=0,high=100,size=(1,))\n",
        "    pose=poses[idx].squeeze(0).float()\n",
        "    img=images[idx].squeeze(0).float()\n",
        "    height, width=img.shape[:2]\n",
        "    test_recw=one_forward_pass(height, width, intrinsics, pose, near, far, samples, model, num_x_frequencies, num_d_frequencies)\n",
        "    loss = F.mse_loss(test_recw, img)\n",
        "    optimizer.zero_grad()\n",
        "    loss.backward()\n",
        "    optimizer.step()\n",
        "    #############################  TODO 2.6 END  ############################\n",
        "\n",
        "    # Display images/plots/stats\n",
        "    if i % display == 0:\n",
        "        with torch.no_grad():\n",
        "        #############################  TODO 2.6 BEGIN  ############################\n",
        "            # Render the held-out view\n",
        "            # R=pred.max()\n",
        "            # R_MSE=(R**2)/loss\n",
        "            # psnr=10 * torch.log10(R_MSE)\n",
        "            test_rec_image=one_forward_pass(height, width, intrinsics, test_pose, near, far, samples, model, num_x_frequencies, num_d_frequencies)\n",
        "            test_loss=F.mse_loss(test_rec_image, test_image)\n",
        "            psnr=10*torch.log10(1/test_loss)\n",
        "\n",
        "        #calculate the loss and the psnr between the original test image and the reconstructed one.\n",
        "\n",
        "\n",
        "        #############################  TODO 2.6 END  ############################\n",
        "\n",
        "        print(\"Iteration %d \" % i, \"Loss: %.4f \" % loss.item(), \"PSNR: %.2f \" % psnr.item(), \\\n",
        "                \"Time: %.2f secs per iter, \" % ((time.time() - t) / display), \"%.2f mins in total\" % ((time.time() - t0)/60))\n",
        "\n",
        "        t = time.time()\n",
        "        psnrs.append(psnr.item())\n",
        "        iternums.append(i)\n",
        "\n",
        "        plt.figure(figsize=(16, 4))\n",
        "        plt.subplot(141)\n",
        "        plt.imshow(test_rec_image.detach().cpu().numpy())\n",
        "        plt.title(f\"Iteration {i}\")\n",
        "        plt.subplot(142)\n",
        "        plt.imshow(test_image.detach().cpu().numpy())\n",
        "        plt.title(\"Target image\")\n",
        "        plt.subplot(143)\n",
        "        plt.plot(iternums, psnrs)\n",
        "        plt.title(\"PSNR\")\n",
        "        plt.show()\n",
        "\n",
        "print('Done!')"
      ],
      "metadata": {
        "id": "WMjGXxNkPtZx"
      },
      "id": "WMjGXxNkPtZx",
      "execution_count": null,
      "outputs": []
    }
  ],
  "metadata": {
    "colab": {
      "provenance": [],
      "private_outputs": true,
      "gpuType": "T4"
    },
    "gpuClass": "standard",
    "kernelspec": {
      "display_name": "Python 3 (ipykernel)",
      "language": "python",
      "name": "python3"
    },
    "language_info": {
      "codemirror_mode": {
        "name": "ipython",
        "version": 3
      },
      "file_extension": ".py",
      "mimetype": "text/x-python",
      "name": "python",
      "nbconvert_exporter": "python",
      "pygments_lexer": "ipython3",
      "version": "3.9.10"
    },
    "accelerator": "GPU"
  },
  "nbformat": 4,
  "nbformat_minor": 5
}